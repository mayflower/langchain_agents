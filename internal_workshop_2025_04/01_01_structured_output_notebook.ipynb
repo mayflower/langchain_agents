{
 "cells": [
  {
   "cell_type": "markdown",
   "metadata": {},
   "source": [
    "# Structured Output mit LLMs in LangChain\n",
    "\n",
    "In diesem Notebook lernen Sie, wie Sie mit LangChain strukturierte Ausgaben von LLMs erzeugen können. Strukturierte Ausgaben sind wichtig für die programmatische Weiterverarbeitung in Anwendungen."
   ]
  },
  {
   "cell_type": "markdown",
   "metadata": {},
   "source": [
    "## 1. Grundlagen\n",
    "\n",
    "Zunächst importieren wir die nötigen Bibliotheken und stellen sicher, dass wir ein LLM zur Verfügung haben."
   ]
  },
  {
   "cell_type": "code",
   "execution_count": null,
   "metadata": {},
   "outputs": [],
   "source": [
    "from helpers import llm\n",
    "from langchain.prompts import ChatPromptTemplate\n",
    "from langchain.schema import StrOutputParser\n",
    "\n",
    "# Test des LLM\n",
    "response = llm().invoke(\"Was ist eine strukturierte Ausgabe?\")\n",
    "print(response.content)"
   ]
  },
  {
   "cell_type": "markdown",
   "metadata": {},
   "source": [
    "## 2. Einfache strukturierte Ausgabe durch Anweisungen\n",
    "\n",
    "Der einfachste Weg, strukturierte Ausgaben zu erhalten, ist durch klare Anweisungen im Prompt."
   ]
  },
  {
   "cell_type": "code",
   "execution_count": null,
   "metadata": {},
   "outputs": [],
   "source": [
    "# Einfaches Prompt-Template für strukturierte Ausgabe\n",
    "prompt = ChatPromptTemplate.from_messages([\n",
    "    (\"system\", \"Du bist ein hilfsbereicher Assistent, der Daten im reinen JSON-Format zurückgibt.\"),\n",
    "    (\"human\", \"Gib mir Informationen über die Stadt {stadt} im JSON-Format ohne codeblock mit den Feldern 'name', 'land', 'einwohner' und einem Array 'sehenswuerdigkeiten'.\")\n",
    "])\n",
    "\n",
    "# Chain erstellen\n",
    "chain = prompt | llm(temperature=0.1) | StrOutputParser()\n",
    "\n",
    "# Chain ausführen\n",
    "result = chain.invoke({\"stadt\": \"Berlin\"})\n",
    "print(result)"
   ]
  },
  {
   "cell_type": "markdown",
   "metadata": {},
   "source": [
    "Das funktioniert, aber die Ausgabe ist nur ein String im JSON-Format. Wir können das Ergebnis manuell in ein Python-Objekt umwandeln:"
   ]
  },
  {
   "cell_type": "code",
   "execution_count": null,
   "metadata": {},
   "outputs": [],
   "source": [
    "import json\n",
    "\n",
    "# String in JSON-Objekt umwandeln\n",
    "try:\n",
    "    data = json.loads(result)\n",
    "    print(f\"Name: {data['name']}\")\n",
    "    print(f\"Land: {data['land']}\")\n",
    "    print(f\"Einwohner: {data['einwohner']}\")\n",
    "    print(f\"Sehenswürdigkeiten: {', '.join(data['sehenswuerdigkeiten'])}\")\n",
    "except json.JSONDecodeError as e:\n",
    "    print(f\"Fehler beim JSON-Parsing: {e}\")\n",
    "    print(\"Rohausgabe:\")\n",
    "    print(result)"
   ]
  },
  {
   "cell_type": "markdown",
   "metadata": {},
   "source": [
    "## 3. Strukturierte Ausgabe mit Pydantic-Modellen\n",
    "\n",
    "Ein zuverlässigerer Ansatz ist die Verwendung von Pydantic-Modellen zur Definition der erwarteten Struktur."
   ]
  },
  {
   "cell_type": "code",
   "execution_count": null,
   "metadata": {},
   "outputs": [],
   "source": [
    "from langchain.output_parsers import PydanticOutputParser\n",
    "from pydantic import BaseModel, Field\n",
    "from typing import List\n",
    "\n",
    "# Definition des Ausgabeformats als Pydantic-Modell\n",
    "class Stadt(BaseModel):\n",
    "    name: str = Field(description=\"Der Name der Stadt\")\n",
    "    land: str = Field(description=\"Das Land, in dem die Stadt liegt\")\n",
    "    einwohner: int = Field(description=\"Die Anzahl der Einwohner\")\n",
    "    sehenswuerdigkeiten: List[str] = Field(description=\"Liste bekannter Sehenswürdigkeiten\")\n",
    "\n",
    "# Parser erstellen\n",
    "parser = PydanticOutputParser(pydantic_object=Stadt)\n",
    "\n",
    "# Prompt mit Parser-Anweisungen\n",
    "# Um in dem Anweisungstext aus der funktion get_format_instruction die felder zu escapen\n",
    "# ersetzten wir die { mit {{ und } mit }}. \n",
    "# Damit versucht die Template Engine nicht die Anweisung als properties auszuwerten\n",
    "prompt = ChatPromptTemplate.from_messages([\n",
    "    (\"system\", \"Du bist ein hilfsbereicher Assistent, der Informationen in strukturierter Form zurückgibt.\"),\n",
    "    (\"human\", \"Gib mir Informationen über die Stadt {stadt} \"+parser.get_format_instructions().replace(\"}\",\"}}\").replace(\"{\",\"{{\")),\n",
    "])\n",
    "\n",
    "# Chain erstellen\n",
    "chain = prompt | llm(temperature=0.1) | parser\n",
    "\n",
    "# Chain ausführen\n",
    "result = chain.invoke({\"stadt\": \"München\"})\n",
    "\n",
    "# Auf strukturierte Daten zugreifen\n",
    "print(f\"Name: {result.name}\")\n",
    "print(f\"Land: {result.land}\")\n",
    "print(f\"Einwohner: {result.einwohner}\")\n",
    "print(f\"Sehenswürdigkeiten: {', '.join(result.sehenswuerdigkeiten)}\")"
   ]
  },
  {
   "cell_type": "markdown",
   "metadata": {},
   "source": [
    "## 4. Anwendungsbeispiel: Sentiment-Analyse mit strukturierter Ausgabe\n",
    "\n",
    "Ein praktisches Beispiel für strukturierte Ausgaben ist die Sentiment-Analyse von Kundenfeedback. Wir verwenden einen vordefinierten Prompt aus dem LangChain Hub."
   ]
  },
  {
   "cell_type": "code",
   "execution_count": null,
   "metadata": {},
   "outputs": [],
   "source": [
    "from langchain import hub\n",
    "\n",
    "# Prompt aus dem Hub laden\n",
    "sentiment_prompt = hub.pull(\"borislove/customer-sentiment-analysis\")\n",
    "\n",
    "# Beispiel-Kundenbrief\n",
    "client_letter = \"\"\"Ich bin von dem Volleyballschläger zutiefst enttäuscht. Zuerst ist der Griff abgefallen, danach auch noch der Dynamo. Außerdem riecht er noch schlechter als er schmeckt. Wieso ist das immer so ein Ärger mit euch?\"\"\"\n",
    "\n",
    "# Standard-Format-Anweisungen\n",
    "format_instructions = \"\"\"Klassifiziere den Kundenbrief nach Stimmung von 1-5, wobei 1 sehr negativ und 5 sehr positiv ist.\"\"\"\n",
    "\n",
    "# Chain erstellen\n",
    "sentiment_chain = sentiment_prompt | llm(temperature=0.1) | StrOutputParser()\n",
    "\n",
    "# Chain ausführen\n",
    "result = sentiment_chain.invoke({\"client_letter\": client_letter, \"format_instructions\": format_instructions})\n",
    "print(result)"
   ]
  },
  {
   "cell_type": "markdown",
   "metadata": {},
   "source": [
    "## 5. Erweiterte strukturierte Ausgabe für die Sentiment-Analyse\n",
    "\n",
    "Nun passen wir die Format-Anweisungen an, um eine detailliertere strukturierte Ausgabe zu erhalten."
   ]
  },
  {
   "cell_type": "code",
   "execution_count": null,
   "metadata": {},
   "outputs": [],
   "source": [
    "# Erweiterte Format-Anweisungen\n",
    "format_instructions = \"\"\"Zusätzlich zur numerischen Klassifizierung (1-5) sollst du:\n",
    "1. Die konkreten Kritikpunkte in Stichpunkten zusammenfassen\n",
    "2. Einen Vorschlag machen, was dem Kunden geantwortet werden sollte\n",
    "3. Drei konkrete Maßnahmen zur Produktverbesserung empfehlen\n",
    "\n",
    "Formatiere die Ausgabe im folgenden JSON-Format ohne codeblock:\n",
    "{\n",
    "    \"bewertung\": Zahl zwischen 1-5,\n",
    "    \"kritikpunkte\": [\"Liste der Kritikpunkte\"],\n",
    "    \"antwortvorschlag\": \"Vorschlag für Antwort an den Kunden\",\n",
    "    \"verbesserungsvorschlaege\": [\"Liste mit Verbesserungsvorschlägen\"]\n",
    "}\n",
    "\"\"\"\n",
    "\n",
    "# Chain ausführen\n",
    "result = sentiment_chain.invoke({\"client_letter\": client_letter, \"format_instructions\": format_instructions})\n",
    "\n",
    "\n",
    "# JSON parsen (wenn die Ausgabe korrekt formatiert ist)\n",
    "try:\n",
    "    data = json.loads(result)\n",
    "    print(\"\\nStrukturierte Daten:\")\n",
    "    print(f\"Bewertung: {data['bewertung']}\")\n",
    "    print(\"Kritikpunkte:\")\n",
    "    for punkt in data['kritikpunkte']:\n",
    "        print(f\"- {punkt}\")\n",
    "    print(f\"\\nAntwortvorschlag: {data['antwortvorschlag']}\")\n",
    "    print(\"\\nVerbesserungsvorschläge:\")\n",
    "    for vorschlag in data['verbesserungsvorschlaege']:\n",
    "        print(f\"- {vorschlag}\")\n",
    "except Exception as e:\n",
    "    print(f\"Fehler beim Parsen: {e}\")"
   ]
  },
  {
   "cell_type": "markdown",
   "metadata": {},
   "source": [
    "## 6. Übungsaufgabe: Produktbewertungsanalyse\n",
    "\n",
    "Erstellen Sie ein Prompt-Template, das Kundenbewertungen analysiert und in eine strukturierte Form bringt."
   ]
  },
  {
   "cell_type": "code",
   "execution_count": null,
   "metadata": {},
   "outputs": [],
   "source": [
    "# Prompt-Template für Produktbewertungsanalyse\n",
    "product_review_prompt = ChatPromptTemplate.from_messages([\n",
    "    (\"system\", \"\"\"Du bist ein Experte für die Analyse von Produktbewertungen. \n",
    "    Extrahiere Informationen aus Kundenbewertungen und gib sie im folgenden JSON-Format ohne codeblock zurück:\n",
    "    {{\n",
    "        \"produktname\": \"Name des Produkts\",\n",
    "        \"gesamtbewertung\": Zahl zwischen 1-5,\n",
    "        \"positive_punkte\": [\"Liste positiver Aspekte\"],\n",
    "        \"negative_punkte\": [\"Liste negativer Aspekte\"],\n",
    "        \"verbesserungsvorschlaege\": [\"Liste von Verbesserungsvorschlägen\"]\n",
    "    }}\n",
    "    \"\"\"\n",
    "    ),\n",
    "    (\"human\", \"Analysiere folgende Produktbewertung: {review}\"),\n",
    "])\n",
    "\n",
    "# Beispielbewertung\n",
    "review = \"\"\"Der Kaffeevollautomat XYZ-5000 hat mich größtenteils überzeugt. \n",
    "Die Bedienung ist super einfach und intuitiv, das Design passt gut in meine Küche. \n",
    "Der Kaffee schmeckt ausgezeichnet und hat eine gute Crema. \n",
    "Allerdings ist die Maschine sehr laut beim Mahlen und die Reinigung des Milchsystems ist umständlich. \n",
    "Die App-Steuerung stürzt manchmal ab. Ich würde mir ein leiseres Mahlwerk und ein einfacheres Reinigungssystem wünschen.\"\"\"\n",
    "\n",
    "# Chain erstellen und ausführen\n",
    "review_chain = product_review_prompt | llm(temperature=0.1) | StrOutputParser()\n",
    "result = review_chain.invoke({\"review\": review})\n",
    "\n",
    "# Strukturierte Daten extrahieren\n",
    "try:\n",
    "    data = json.loads(result)\n",
    "    print(\"\\nAnalyse der Produktbewertung:\")\n",
    "    print(f\"Produkt: {data['produktname']}\")\n",
    "    print(f\"Gesamtbewertung: {data['gesamtbewertung']}/5\")\n",
    "    \n",
    "    print(\"\\nPositive Aspekte:\")\n",
    "    for punkt in data['positive_punkte']:\n",
    "        print(f\"✓ {punkt}\")\n",
    "        \n",
    "    print(\"\\nNegative Aspekte:\")\n",
    "    for punkt in data['negative_punkte']:\n",
    "        print(f\"✗ {punkt}\")\n",
    "        \n",
    "    print(\"\\nVerbesserungsvorschläge:\")\n",
    "    for vorschlag in data['verbesserungsvorschlaege']:\n",
    "        print(f\"→ {vorschlag}\")\n",
    "except Exception as e:\n",
    "    print(f\"Fehler beim Parsen: {e}\")"
   ]
  },
  {
   "cell_type": "markdown",
   "metadata": {},
   "source": [
    "## 7. Tipps für effektive strukturierte Ausgaben\n",
    "\n",
    "1. **Klare Anweisungen**: Je präziser die Anweisungen, desto konsistenter die Ausgaben\n",
    "2. **Beispiele**: Geben Sie Beispiele für das gewünschte Format\n",
    "3. **Niedrige Temperatur**: Verwenden Sie eine niedrige Temperatur (0-0.2) für konsistentere Ergebnisse\n",
    "4. **Fehlerbehandlung**: Implementieren Sie Validierung und Fehlerbehandlung\n",
    "5. **Fallback-Mechanismen**: Bereiten Sie Ausweichlösungen vor, falls das LLM nicht die erwartete Struktur liefert"
   ]
  },
  {
   "cell_type": "markdown",
   "metadata": {},
   "source": [
    "## 8. Zusammenfassung\n",
    "\n",
    "In diesem Notebook haben wir gelernt:\n",
    "- Wie man durch einfache Anweisungen strukturierte Textausgaben erzeugt\n",
    "- Wie man mit Pydantic-Modellen typsichere strukturierte Ausgaben erhält\n",
    "- Wie man vordefinierte Prompts aus dem LangChain Hub anpasst\n",
    "- Praktische Anwendungen für strukturierte Ausgaben wie Sentiment-Analyse und Produktbewertungen\n",
    "\n",
    "Diese Techniken sind essenziell für die Entwicklung robuster KI-Anwendungen, die zuverlässig mit den generierten Daten arbeiten müssen."
   ]
  }
 ],
 "metadata": {
  "kernelspec": {
   "display_name": "langchain-agents-Wmcp_RVb-py3.11",
   "language": "python",
   "name": "python3"
  },
  "language_info": {
   "codemirror_mode": {
    "name": "ipython",
    "version": 3
   },
   "file_extension": ".py",
   "mimetype": "text/x-python",
   "name": "python",
   "nbconvert_exporter": "python",
   "pygments_lexer": "ipython3",
   "version": "3.11.11"
  }
 },
 "nbformat": 4,
 "nbformat_minor": 2
}
