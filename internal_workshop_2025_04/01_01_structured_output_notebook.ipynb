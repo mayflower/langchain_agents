{
 "cells": [
  {
   "cell_type": "markdown",
   "metadata": {},
   "source": [
    "# Structured Output mit LLMs in LangChain\n",
    "\n",
    "In diesem Notebook lernen Sie, wie Sie mit LangChain strukturierte Ausgaben von LLMs erzeugen können. Strukturierte Ausgaben sind wichtig für die programmatische Weiterverarbeitung in Anwendungen."
   ]
  },
  {
   "cell_type": "markdown",
   "metadata": {},
   "source": [
    "## 1. Grundlagen\n",
    "\n",
    "Zunächst importieren wir die nötigen Bibliotheken und stellen sicher, dass wir ein LLM zur Verfügung haben."
   ]
  },
  {
   "cell_type": "code",
   "execution_count": 4,
   "metadata": {},
   "outputs": [
    {
     "name": "stdout",
     "output_type": "stream",
     "text": [
      "Eine strukturierte Ausgabe bezieht sich auf die Präsentation von Informationen in einem organisierten und klaren Format, das leicht verständlich und interpretierbar ist. Diese Art der Ausgabe ist besonders nützlich, um Daten oder Informationen so darzustellen, dass sie effizient analysiert, verglichen oder weiterverarbeitet werden können. \n",
      "\n",
      "Beispiele für strukturierte Ausgaben sind:\n",
      "\n",
      "1. **Tabellen**: Daten werden in Zeilen und Spalten organisiert, was den Vergleich verschiedener Datensätze erleichtert.\n",
      "   \n",
      "2. **Listen**: Informationen werden in geordneter oder ungeordneter Form präsentiert, um bestimmte Punkte klar hervorzuheben.\n",
      "   \n",
      "3. **Diagramme und Grafiken**: Visuelle Darstellungen von Daten, die Muster oder Trends verdeutlichen können.\n",
      "   \n",
      "4. **Berichte**: Dokumente, die Informationen in bestimmten Abschnitten und Unterabschnitten strukturiert darstellen, oft mit Überschriften, Unterüberschriften und nummerierten Absätzen.\n",
      "   \n",
      "5. **XML/JSON**: Formatierte Datenstrukturen, die häufig in der Informatik verwendet werden, um Daten zwischen Systemen auszutauschen.\n",
      "\n",
      "Strukturierte Ausgaben helfen dabei, komplexe Informationen effizient zu kommunizieren und die Verarbeitungszeit für den Leser oder Benutzer zu verkürzen.\n"
     ]
    }
   ],
   "source": [
    "from helpers import llm\n",
    "from langchain.prompts import ChatPromptTemplate\n",
    "from langchain.schema import StrOutputParser\n",
    "\n",
    "# Test des LLM\n",
    "response = llm().invoke(\"Was ist eine strukturierte Ausgabe?\")\n",
    "print(response.content)"
   ]
  },
  {
   "cell_type": "markdown",
   "metadata": {},
   "source": [
    "## 2. Einfache strukturierte Ausgabe durch Anweisungen\n",
    "\n",
    "Der einfachste Weg, strukturierte Ausgaben zu erhalten, ist durch klare Anweisungen im Prompt."
   ]
  },
  {
   "cell_type": "code",
   "execution_count": 7,
   "metadata": {},
   "outputs": [
    {
     "name": "stdout",
     "output_type": "stream",
     "text": [
      "```json\n",
      "{\n",
      "  \"name\": \"Berlin\",\n",
      "  \"land\": \"Deutschland\",\n",
      "  \"einwohner\": 3645000,\n",
      "  \"sehenswuerdigkeiten\": [\n",
      "    \"Brandenburger Tor\",\n",
      "    \"Reichstagsgebäude\",\n",
      "    \"Berliner Mauer\",\n",
      "    \"Fernsehturm\",\n",
      "    \"Museumsinsel\",\n",
      "    \"East Side Gallery\",\n",
      "    \"Checkpoint Charlie\",\n",
      "    \"Berliner Dom\",\n",
      "    \"Schloss Charlottenburg\",\n",
      "    \"Gedenkstätte Berliner Mauer\"\n",
      "  ]\n",
      "}\n",
      "```\n"
     ]
    }
   ],
   "source": [
    "# Einfaches Prompt-Template für strukturierte Ausgabe\n",
    "prompt = ChatPromptTemplate.from_messages([\n",
    "    (\"system\", \"Du bist ein hilfsbereicher Assistent, der Daten im reinen JSON-Format zurückgibt.\"),\n",
    "    (\"human\", \"Gib mir Informationen über die Stadt {stadt} im JSON-Format mit den Feldern 'name', 'land', 'einwohner' und einem Array 'sehenswuerdigkeiten'.\")\n",
    "])\n",
    "\n",
    "# Chain erstellen\n",
    "chain = prompt | llm(temperature=0.1) | StrOutputParser()\n",
    "\n",
    "# Chain ausführen\n",
    "result = chain.invoke({\"stadt\": \"Berlin\"})\n",
    "print(result)"
   ]
  },
  {
   "cell_type": "markdown",
   "metadata": {},
   "source": [
    "Das funktioniert, aber die Ausgabe ist nur ein String im JSON-Format. Wir können das Ergebnis manuell in ein Python-Objekt umwandeln:"
   ]
  },
  {
   "cell_type": "code",
   "execution_count": 8,
   "metadata": {},
   "outputs": [
    {
     "name": "stdout",
     "output_type": "stream",
     "text": [
      "Fehler beim JSON-Parsing: Expecting value: line 1 column 1 (char 0)\n",
      "Rohausgabe:\n",
      "```json\n",
      "{\n",
      "  \"name\": \"Berlin\",\n",
      "  \"land\": \"Deutschland\",\n",
      "  \"einwohner\": 3645000,\n",
      "  \"sehenswuerdigkeiten\": [\n",
      "    \"Brandenburger Tor\",\n",
      "    \"Reichstagsgebäude\",\n",
      "    \"Berliner Mauer\",\n",
      "    \"Fernsehturm\",\n",
      "    \"Museumsinsel\",\n",
      "    \"East Side Gallery\",\n",
      "    \"Checkpoint Charlie\",\n",
      "    \"Berliner Dom\",\n",
      "    \"Schloss Charlottenburg\",\n",
      "    \"Gedenkstätte Berliner Mauer\"\n",
      "  ]\n",
      "}\n",
      "```\n"
     ]
    }
   ],
   "source": [
    "import json\n",
    "\n",
    "# String in JSON-Objekt umwandeln\n",
    "try:\n",
    "    data = json.loads(result)\n",
    "    print(f\"Name: {data['name']}\")\n",
    "    print(f\"Land: {data['land']}\")\n",
    "    print(f\"Einwohner: {data['einwohner']}\")\n",
    "    print(f\"Sehenswürdigkeiten: {', '.join(data['sehenswuerdigkeiten'])}\")\n",
    "except json.JSONDecodeError as e:\n",
    "    print(f\"Fehler beim JSON-Parsing: {e}\")\n",
    "    print(\"Rohausgabe:\")\n",
    "    print(result)"
   ]
  },
  {
   "cell_type": "markdown",
   "metadata": {},
   "source": [
    "## 3. Strukturierte Ausgabe mit Pydantic-Modellen\n",
    "\n",
    "Ein zuverlässigerer Ansatz ist die Verwendung von Pydantic-Modellen zur Definition der erwarteten Struktur."
   ]
  },
  {
   "cell_type": "code",
   "execution_count": 9,
   "metadata": {},
   "outputs": [
    {
     "ename": "KeyError",
     "evalue": "'Input to ChatPromptTemplate is missing variables {\\'\"properties\"\\', \\'\"foo\"\\'}.  Expected: [\\'\"foo\"\\', \\'\"properties\"\\', \\'stadt\\'] Received: [\\'stadt\\']\\nNote: if you intended {\"properties\"} to be part of the string and not a variable, please escape it with double curly braces like: \\'{{\"properties\"}}\\'.\\nFor troubleshooting, visit: https://python.langchain.com/docs/troubleshooting/errors/INVALID_PROMPT_INPUT'",
     "output_type": "error",
     "traceback": [
      "\u001b[0;31m---------------------------------------------------------------------------\u001b[0m",
      "\u001b[0;31mKeyError\u001b[0m                                  Traceback (most recent call last)",
      "Cell \u001b[0;32mIn[9], line 25\u001b[0m\n\u001b[1;32m     22\u001b[0m chain \u001b[38;5;241m=\u001b[39m prompt \u001b[38;5;241m|\u001b[39m llm(temperature\u001b[38;5;241m=\u001b[39m\u001b[38;5;241m0.1\u001b[39m) \u001b[38;5;241m|\u001b[39m parser\n\u001b[1;32m     24\u001b[0m \u001b[38;5;66;03m# Chain ausführen\u001b[39;00m\n\u001b[0;32m---> 25\u001b[0m result \u001b[38;5;241m=\u001b[39m \u001b[43mchain\u001b[49m\u001b[38;5;241;43m.\u001b[39;49m\u001b[43minvoke\u001b[49m\u001b[43m(\u001b[49m\u001b[43m{\u001b[49m\u001b[38;5;124;43m\"\u001b[39;49m\u001b[38;5;124;43mstadt\u001b[39;49m\u001b[38;5;124;43m\"\u001b[39;49m\u001b[43m:\u001b[49m\u001b[43m \u001b[49m\u001b[38;5;124;43m\"\u001b[39;49m\u001b[38;5;124;43mMünchen\u001b[39;49m\u001b[38;5;124;43m\"\u001b[39;49m\u001b[43m}\u001b[49m\u001b[43m)\u001b[49m\n\u001b[1;32m     27\u001b[0m \u001b[38;5;66;03m# Auf strukturierte Daten zugreifen\u001b[39;00m\n\u001b[1;32m     28\u001b[0m \u001b[38;5;28mprint\u001b[39m(\u001b[38;5;124mf\u001b[39m\u001b[38;5;124m\"\u001b[39m\u001b[38;5;124mName: \u001b[39m\u001b[38;5;132;01m{\u001b[39;00mresult\u001b[38;5;241m.\u001b[39mname\u001b[38;5;132;01m}\u001b[39;00m\u001b[38;5;124m\"\u001b[39m)\n",
      "File \u001b[0;32m/opt/tljh/user/lib/python3.10/site-packages/langchain_core/runnables/base.py:3022\u001b[0m, in \u001b[0;36mRunnableSequence.invoke\u001b[0;34m(self, input, config, **kwargs)\u001b[0m\n\u001b[1;32m   3020\u001b[0m context\u001b[38;5;241m.\u001b[39mrun(_set_config_context, config)\n\u001b[1;32m   3021\u001b[0m \u001b[38;5;28;01mif\u001b[39;00m i \u001b[38;5;241m==\u001b[39m \u001b[38;5;241m0\u001b[39m:\n\u001b[0;32m-> 3022\u001b[0m     \u001b[38;5;28minput\u001b[39m \u001b[38;5;241m=\u001b[39m \u001b[43mcontext\u001b[49m\u001b[38;5;241;43m.\u001b[39;49m\u001b[43mrun\u001b[49m\u001b[43m(\u001b[49m\u001b[43mstep\u001b[49m\u001b[38;5;241;43m.\u001b[39;49m\u001b[43minvoke\u001b[49m\u001b[43m,\u001b[49m\u001b[43m \u001b[49m\u001b[38;5;28;43minput\u001b[39;49m\u001b[43m,\u001b[49m\u001b[43m \u001b[49m\u001b[43mconfig\u001b[49m\u001b[43m,\u001b[49m\u001b[43m \u001b[49m\u001b[38;5;241;43m*\u001b[39;49m\u001b[38;5;241;43m*\u001b[39;49m\u001b[43mkwargs\u001b[49m\u001b[43m)\u001b[49m\n\u001b[1;32m   3023\u001b[0m \u001b[38;5;28;01melse\u001b[39;00m:\n\u001b[1;32m   3024\u001b[0m     \u001b[38;5;28minput\u001b[39m \u001b[38;5;241m=\u001b[39m context\u001b[38;5;241m.\u001b[39mrun(step\u001b[38;5;241m.\u001b[39minvoke, \u001b[38;5;28minput\u001b[39m, config)\n",
      "File \u001b[0;32m/opt/tljh/user/lib/python3.10/site-packages/langchain_core/prompts/base.py:208\u001b[0m, in \u001b[0;36mBasePromptTemplate.invoke\u001b[0;34m(self, input, config, **kwargs)\u001b[0m\n\u001b[1;32m    206\u001b[0m \u001b[38;5;28;01mif\u001b[39;00m \u001b[38;5;28mself\u001b[39m\u001b[38;5;241m.\u001b[39mtags:\n\u001b[1;32m    207\u001b[0m     config[\u001b[38;5;124m\"\u001b[39m\u001b[38;5;124mtags\u001b[39m\u001b[38;5;124m\"\u001b[39m] \u001b[38;5;241m=\u001b[39m config[\u001b[38;5;124m\"\u001b[39m\u001b[38;5;124mtags\u001b[39m\u001b[38;5;124m\"\u001b[39m] \u001b[38;5;241m+\u001b[39m \u001b[38;5;28mself\u001b[39m\u001b[38;5;241m.\u001b[39mtags\n\u001b[0;32m--> 208\u001b[0m \u001b[38;5;28;01mreturn\u001b[39;00m \u001b[38;5;28;43mself\u001b[39;49m\u001b[38;5;241;43m.\u001b[39;49m\u001b[43m_call_with_config\u001b[49m\u001b[43m(\u001b[49m\n\u001b[1;32m    209\u001b[0m \u001b[43m    \u001b[49m\u001b[38;5;28;43mself\u001b[39;49m\u001b[38;5;241;43m.\u001b[39;49m\u001b[43m_format_prompt_with_error_handling\u001b[49m\u001b[43m,\u001b[49m\n\u001b[1;32m    210\u001b[0m \u001b[43m    \u001b[49m\u001b[38;5;28;43minput\u001b[39;49m\u001b[43m,\u001b[49m\n\u001b[1;32m    211\u001b[0m \u001b[43m    \u001b[49m\u001b[43mconfig\u001b[49m\u001b[43m,\u001b[49m\n\u001b[1;32m    212\u001b[0m \u001b[43m    \u001b[49m\u001b[43mrun_type\u001b[49m\u001b[38;5;241;43m=\u001b[39;49m\u001b[38;5;124;43m\"\u001b[39;49m\u001b[38;5;124;43mprompt\u001b[39;49m\u001b[38;5;124;43m\"\u001b[39;49m\u001b[43m,\u001b[49m\n\u001b[1;32m    213\u001b[0m \u001b[43m    \u001b[49m\u001b[43mserialized\u001b[49m\u001b[38;5;241;43m=\u001b[39;49m\u001b[38;5;28;43mself\u001b[39;49m\u001b[38;5;241;43m.\u001b[39;49m\u001b[43m_serialized\u001b[49m\u001b[43m,\u001b[49m\n\u001b[1;32m    214\u001b[0m \u001b[43m\u001b[49m\u001b[43m)\u001b[49m\n",
      "File \u001b[0;32m/opt/tljh/user/lib/python3.10/site-packages/langchain_core/runnables/base.py:1927\u001b[0m, in \u001b[0;36mRunnable._call_with_config\u001b[0;34m(self, func, input, config, run_type, serialized, **kwargs)\u001b[0m\n\u001b[1;32m   1923\u001b[0m     context \u001b[38;5;241m=\u001b[39m copy_context()\n\u001b[1;32m   1924\u001b[0m     context\u001b[38;5;241m.\u001b[39mrun(_set_config_context, child_config)\n\u001b[1;32m   1925\u001b[0m     output \u001b[38;5;241m=\u001b[39m cast(\n\u001b[1;32m   1926\u001b[0m         Output,\n\u001b[0;32m-> 1927\u001b[0m         \u001b[43mcontext\u001b[49m\u001b[38;5;241;43m.\u001b[39;49m\u001b[43mrun\u001b[49m\u001b[43m(\u001b[49m\n\u001b[1;32m   1928\u001b[0m \u001b[43m            \u001b[49m\u001b[43mcall_func_with_variable_args\u001b[49m\u001b[43m,\u001b[49m\u001b[43m  \u001b[49m\u001b[38;5;66;43;03m# type: ignore[arg-type]\u001b[39;49;00m\n\u001b[1;32m   1929\u001b[0m \u001b[43m            \u001b[49m\u001b[43mfunc\u001b[49m\u001b[43m,\u001b[49m\u001b[43m  \u001b[49m\u001b[38;5;66;43;03m# type: ignore[arg-type]\u001b[39;49;00m\n\u001b[1;32m   1930\u001b[0m \u001b[43m            \u001b[49m\u001b[38;5;28;43minput\u001b[39;49m\u001b[43m,\u001b[49m\u001b[43m  \u001b[49m\u001b[38;5;66;43;03m# type: ignore[arg-type]\u001b[39;49;00m\n\u001b[1;32m   1931\u001b[0m \u001b[43m            \u001b[49m\u001b[43mconfig\u001b[49m\u001b[43m,\u001b[49m\n\u001b[1;32m   1932\u001b[0m \u001b[43m            \u001b[49m\u001b[43mrun_manager\u001b[49m\u001b[43m,\u001b[49m\n\u001b[1;32m   1933\u001b[0m \u001b[43m            \u001b[49m\u001b[38;5;241;43m*\u001b[39;49m\u001b[38;5;241;43m*\u001b[39;49m\u001b[43mkwargs\u001b[49m\u001b[43m,\u001b[49m\n\u001b[1;32m   1934\u001b[0m \u001b[43m        \u001b[49m\u001b[43m)\u001b[49m,\n\u001b[1;32m   1935\u001b[0m     )\n\u001b[1;32m   1936\u001b[0m \u001b[38;5;28;01mexcept\u001b[39;00m \u001b[38;5;167;01mBaseException\u001b[39;00m \u001b[38;5;28;01mas\u001b[39;00m e:\n\u001b[1;32m   1937\u001b[0m     run_manager\u001b[38;5;241m.\u001b[39mon_chain_error(e)\n",
      "File \u001b[0;32m/opt/tljh/user/lib/python3.10/site-packages/langchain_core/runnables/config.py:396\u001b[0m, in \u001b[0;36mcall_func_with_variable_args\u001b[0;34m(func, input, config, run_manager, **kwargs)\u001b[0m\n\u001b[1;32m    394\u001b[0m \u001b[38;5;28;01mif\u001b[39;00m run_manager \u001b[38;5;129;01mis\u001b[39;00m \u001b[38;5;129;01mnot\u001b[39;00m \u001b[38;5;28;01mNone\u001b[39;00m \u001b[38;5;129;01mand\u001b[39;00m accepts_run_manager(func):\n\u001b[1;32m    395\u001b[0m     kwargs[\u001b[38;5;124m\"\u001b[39m\u001b[38;5;124mrun_manager\u001b[39m\u001b[38;5;124m\"\u001b[39m] \u001b[38;5;241m=\u001b[39m run_manager\n\u001b[0;32m--> 396\u001b[0m \u001b[38;5;28;01mreturn\u001b[39;00m \u001b[43mfunc\u001b[49m\u001b[43m(\u001b[49m\u001b[38;5;28;43minput\u001b[39;49m\u001b[43m,\u001b[49m\u001b[43m \u001b[49m\u001b[38;5;241;43m*\u001b[39;49m\u001b[38;5;241;43m*\u001b[39;49m\u001b[43mkwargs\u001b[49m\u001b[43m)\u001b[49m\n",
      "File \u001b[0;32m/opt/tljh/user/lib/python3.10/site-packages/langchain_core/prompts/base.py:182\u001b[0m, in \u001b[0;36mBasePromptTemplate._format_prompt_with_error_handling\u001b[0;34m(self, inner_input)\u001b[0m\n\u001b[1;32m    181\u001b[0m \u001b[38;5;28;01mdef\u001b[39;00m \u001b[38;5;21m_format_prompt_with_error_handling\u001b[39m(\u001b[38;5;28mself\u001b[39m, inner_input: \u001b[38;5;28mdict\u001b[39m) \u001b[38;5;241m-\u001b[39m\u001b[38;5;241m>\u001b[39m PromptValue:\n\u001b[0;32m--> 182\u001b[0m     _inner_input \u001b[38;5;241m=\u001b[39m \u001b[38;5;28;43mself\u001b[39;49m\u001b[38;5;241;43m.\u001b[39;49m\u001b[43m_validate_input\u001b[49m\u001b[43m(\u001b[49m\u001b[43minner_input\u001b[49m\u001b[43m)\u001b[49m\n\u001b[1;32m    183\u001b[0m     \u001b[38;5;28;01mreturn\u001b[39;00m \u001b[38;5;28mself\u001b[39m\u001b[38;5;241m.\u001b[39mformat_prompt(\u001b[38;5;241m*\u001b[39m\u001b[38;5;241m*\u001b[39m_inner_input)\n",
      "File \u001b[0;32m/opt/tljh/user/lib/python3.10/site-packages/langchain_core/prompts/base.py:176\u001b[0m, in \u001b[0;36mBasePromptTemplate._validate_input\u001b[0;34m(self, inner_input)\u001b[0m\n\u001b[1;32m    170\u001b[0m     example_key \u001b[38;5;241m=\u001b[39m missing\u001b[38;5;241m.\u001b[39mpop()\n\u001b[1;32m    171\u001b[0m     msg \u001b[38;5;241m+\u001b[39m\u001b[38;5;241m=\u001b[39m (\n\u001b[1;32m    172\u001b[0m         \u001b[38;5;124mf\u001b[39m\u001b[38;5;124m\"\u001b[39m\u001b[38;5;130;01m\\n\u001b[39;00m\u001b[38;5;124mNote: if you intended \u001b[39m\u001b[38;5;130;01m{{\u001b[39;00m\u001b[38;5;132;01m{\u001b[39;00mexample_key\u001b[38;5;132;01m}\u001b[39;00m\u001b[38;5;130;01m}}\u001b[39;00m\u001b[38;5;124m to be part of the string\u001b[39m\u001b[38;5;124m\"\u001b[39m\n\u001b[1;32m    173\u001b[0m         \u001b[38;5;124m\"\u001b[39m\u001b[38;5;124m and not a variable, please escape it with double curly braces like: \u001b[39m\u001b[38;5;124m\"\u001b[39m\n\u001b[1;32m    174\u001b[0m         \u001b[38;5;124mf\u001b[39m\u001b[38;5;124m\"\u001b[39m\u001b[38;5;124m'\u001b[39m\u001b[38;5;130;01m{{\u001b[39;00m\u001b[38;5;130;01m{{\u001b[39;00m\u001b[38;5;132;01m{\u001b[39;00mexample_key\u001b[38;5;132;01m}\u001b[39;00m\u001b[38;5;130;01m}}\u001b[39;00m\u001b[38;5;130;01m}}\u001b[39;00m\u001b[38;5;124m'\u001b[39m\u001b[38;5;124m.\u001b[39m\u001b[38;5;124m\"\u001b[39m\n\u001b[1;32m    175\u001b[0m     )\n\u001b[0;32m--> 176\u001b[0m     \u001b[38;5;28;01mraise\u001b[39;00m \u001b[38;5;167;01mKeyError\u001b[39;00m(\n\u001b[1;32m    177\u001b[0m         create_message(message\u001b[38;5;241m=\u001b[39mmsg, error_code\u001b[38;5;241m=\u001b[39mErrorCode\u001b[38;5;241m.\u001b[39mINVALID_PROMPT_INPUT)\n\u001b[1;32m    178\u001b[0m     )\n\u001b[1;32m    179\u001b[0m \u001b[38;5;28;01mreturn\u001b[39;00m inner_input\n",
      "\u001b[0;31mKeyError\u001b[0m: 'Input to ChatPromptTemplate is missing variables {\\'\"properties\"\\', \\'\"foo\"\\'}.  Expected: [\\'\"foo\"\\', \\'\"properties\"\\', \\'stadt\\'] Received: [\\'stadt\\']\\nNote: if you intended {\"properties\"} to be part of the string and not a variable, please escape it with double curly braces like: \\'{{\"properties\"}}\\'.\\nFor troubleshooting, visit: https://python.langchain.com/docs/troubleshooting/errors/INVALID_PROMPT_INPUT'"
     ]
    }
   ],
   "source": [
    "from langchain.output_parsers import PydanticOutputParser\n",
    "from pydantic import BaseModel, Field\n",
    "from typing import List\n",
    "\n",
    "# Definition des Ausgabeformats als Pydantic-Modell\n",
    "class Stadt(BaseModel):\n",
    "    name: str = Field(description=\"Der Name der Stadt\")\n",
    "    land: str = Field(description=\"Das Land, in dem die Stadt liegt\")\n",
    "    einwohner: int = Field(description=\"Die Anzahl der Einwohner\")\n",
    "    sehenswuerdigkeiten: List[str] = Field(description=\"Liste bekannter Sehenswürdigkeiten\")\n",
    "\n",
    "# Parser erstellen\n",
    "parser = PydanticOutputParser(pydantic_object=Stadt)\n",
    "\n",
    "# Prompt mit Parser-Anweisungen\n",
    "# Um in dem Anweisungstext aus der funktion get_format_instruction die felder zu escapen\n",
    "# ersetzten wir die { mit {{ und } mit }}. \n",
    "# Damit versucht die Template Engine nicht die Anweisung als properties auszuwerten\n",
    "prompt = ChatPromptTemplate.from_messages([\n",
    "    (\"system\", \"Du bist ein hilfsbereicher Assistent, der Informationen in strukturierter Form zurückgibt.\"),\n",
    "    (\"human\", \"Gib mir Informationen über die Stadt {stadt} \"+parser.get_format_instructions().replace(\"}\",\"}}\").replace(\"{\",\"{{\")),\n",
    "])\n",
    "\n",
    "# Chain erstellen\n",
    "chain = prompt | llm(temperature=0.1) | parser\n",
    "\n",
    "# Chain ausführen\n",
    "result = chain.invoke({\"stadt\": \"München\"})\n",
    "\n",
    "# Auf strukturierte Daten zugreifen\n",
    "print(f\"Name: {result.name}\")\n",
    "print(f\"Land: {result.land}\")\n",
    "print(f\"Einwohner: {result.einwohner}\")\n",
    "print(f\"Sehenswürdigkeiten: {', '.join(result.sehenswuerdigkeiten)}\")"
   ]
  },
  {
   "cell_type": "markdown",
   "metadata": {},
   "source": [
    "## 4. Anwendungsbeispiel: Sentiment-Analyse mit strukturierter Ausgabe\n",
    "\n",
    "Ein praktisches Beispiel für strukturierte Ausgaben ist die Sentiment-Analyse von Kundenfeedback. Wir verwenden einen vordefinierten Prompt aus dem LangChain Hub."
   ]
  },
  {
   "cell_type": "code",
   "execution_count": 11,
   "metadata": {},
   "outputs": [
    {
     "name": "stdout",
     "output_type": "stream",
     "text": [
      "Unknown\n"
     ]
    }
   ],
   "source": [
    "from langchain import hub\n",
    "\n",
    "# Prompt aus dem Hub laden\n",
    "sentiment_prompt = hub.pull(\"borislove/customer-sentiment-analysis\")\n",
    "\n",
    "# Beispiel-Kundenbrief\n",
    "client_letter = \"\"\"Ich bin von dem Volleyballschläger zutiefst enttäuscht. Zuerst ist der Griff abgefallen, danach auch noch der Dynamo. Außerdem riecht er noch schlechter als er schmeckt. Wieso ist das immer so ein Ärger mit euch?\"\"\"\n",
    "\n",
    "# Standard-Format-Anweisungen\n",
    "format_instructions = \"\"\"Klassifiziere den Kundenbrief nach Stimmung von 1-5, wobei 1 sehr negativ und 5 sehr positiv ist.\"\"\"\n",
    "\n",
    "# Chain erstellen\n",
    "sentiment_chain = sentiment_prompt | llm(temperature=0.1) | StrOutputParser()\n",
    "\n",
    "# Chain ausführen\n",
    "result = sentiment_chain.invoke({\"client_letter\": client_letter, \"format_instructions\": format_instructions})\n",
    "print(result)"
   ]
  },
  {
   "cell_type": "markdown",
   "metadata": {},
   "source": [
    "## 5. Erweiterte strukturierte Ausgabe für die Sentiment-Analyse\n",
    "\n",
    "Nun passen wir die Format-Anweisungen an, um eine detailliertere strukturierte Ausgabe zu erhalten."
   ]
  },
  {
   "cell_type": "code",
   "execution_count": 12,
   "metadata": {},
   "outputs": [
    {
     "name": "stdout",
     "output_type": "stream",
     "text": [
      "```json\n",
      "{\n",
      "    \"bewertung\": 3,\n",
      "    \"kritikpunkte\": [\n",
      "        \"Griff des Volleyballschlägers ist abgefallen\",\n",
      "        \"Dynamo des Volleyballschlägers ist abgefallen\",\n",
      "        \"Der Volleyballschläger riecht unangenehm\"\n",
      "    ],\n",
      "    \"antwortvorschlag\": \"Sehr geehrter Kunde, es tut uns leid zu hören, dass Sie mit dem Volleyballschläger unzufrieden sind. Wir möchten Ihnen gerne helfen, dieses Problem zu lösen. Bitte senden Sie uns den Schläger zurück, damit wir ihn überprüfen und Ihnen entweder einen Ersatz oder eine Rückerstattung anbieten können. Vielen Dank für Ihr Verständnis und Ihre Geduld.\",\n",
      "    \"verbesserungsvorschlaege\": [\n",
      "        \"Qualitätskontrolle der Griffe verbessern, um sicherzustellen, dass sie fest angebracht sind\",\n",
      "        \"Überprüfung und Verbesserung der Befestigung des Dynamos\",\n",
      "        \"Materialien verwenden, die keinen unangenehmen Geruch abgeben\"\n",
      "    ]\n",
      "}\n",
      "```\n",
      "Fehler beim Parsen: Expecting value: line 1 column 1 (char 0)\n"
     ]
    }
   ],
   "source": [
    "# Erweiterte Format-Anweisungen\n",
    "format_instructions = \"\"\"Zusätzlich zur numerischen Klassifizierung (1-5) sollst du:\n",
    "1. Die konkreten Kritikpunkte in Stichpunkten zusammenfassen\n",
    "2. Einen Vorschlag machen, was dem Kunden geantwortet werden sollte\n",
    "3. Drei konkrete Maßnahmen zur Produktverbesserung empfehlen\n",
    "\n",
    "Formatiere die Ausgabe im folgenden JSON-Format ohne codeblock:\n",
    "{\n",
    "    \"bewertung\": Zahl zwischen 1-5,\n",
    "    \"kritikpunkte\": [\"Liste der Kritikpunkte\"],\n",
    "    \"antwortvorschlag\": \"Vorschlag für Antwort an den Kunden\",\n",
    "    \"verbesserungsvorschlaege\": [\"Liste mit Verbesserungsvorschlägen\"]\n",
    "}\n",
    "\"\"\"\n",
    "\n",
    "# Chain ausführen\n",
    "result = sentiment_chain.invoke({\"client_letter\": client_letter, \"format_instructions\": format_instructions})\n",
    "\n",
    "\n",
    "# JSON parsen (wenn die Ausgabe korrekt formatiert ist)\n",
    "try:\n",
    "    data = json.loads(result)\n",
    "    print(\"\\nStrukturierte Daten:\")\n",
    "    print(f\"Bewertung: {data['bewertung']}\")\n",
    "    print(\"Kritikpunkte:\")\n",
    "    for punkt in data['kritikpunkte']:\n",
    "        print(f\"- {punkt}\")\n",
    "    print(f\"\\nAntwortvorschlag: {data['antwortvorschlag']}\")\n",
    "    print(\"\\nVerbesserungsvorschläge:\")\n",
    "    for vorschlag in data['verbesserungsvorschlaege']:\n",
    "        print(f\"- {vorschlag}\")\n",
    "except Exception as e:\n",
    "    print(f\"Fehler beim Parsen: {e}\")"
   ]
  },
  {
   "cell_type": "markdown",
   "metadata": {},
   "source": [
    "## 6. Übungsaufgabe: Produktbewertungsanalyse\n",
    "\n",
    "Erstellen Sie ein Prompt-Template, das Kundenbewertungen analysiert und in eine strukturierte Form bringt."
   ]
  },
  {
   "cell_type": "code",
   "execution_count": null,
   "metadata": {},
   "outputs": [],
   "source": [
    "# Prompt-Template für Produktbewertungsanalyse\n",
    "product_review_prompt = ChatPromptTemplate.from_messages([\n",
    "    (\"system\", \"\"\"Du bist ein Experte für die Analyse von Produktbewertungen. \n",
    "    Extrahiere Informationen aus Kundenbewertungen und gib sie im folgenden JSON-Format ohne codeblock zurück:\n",
    "    {{\n",
    "        \"produktname\": \"Name des Produkts\",\n",
    "        \"gesamtbewertung\": Zahl zwischen 1-5,\n",
    "        \"positive_punkte\": [\"Liste positiver Aspekte\"],\n",
    "        \"negative_punkte\": [\"Liste negativer Aspekte\"],\n",
    "        \"verbesserungsvorschlaege\": [\"Liste von Verbesserungsvorschlägen\"]\n",
    "    }}\n",
    "    \"\"\"\n",
    "    ),\n",
    "    (\"human\", \"Analysiere folgende Produktbewertung: {review}\"),\n",
    "])\n",
    "\n",
    "# Beispielbewertung\n",
    "review = \"\"\"Der Kaffeevollautomat XYZ-5000 hat mich größtenteils überzeugt. \n",
    "Die Bedienung ist super einfach und intuitiv, das Design passt gut in meine Küche. \n",
    "Der Kaffee schmeckt ausgezeichnet und hat eine gute Crema. \n",
    "Allerdings ist die Maschine sehr laut beim Mahlen und die Reinigung des Milchsystems ist umständlich. \n",
    "Die App-Steuerung stürzt manchmal ab. Ich würde mir ein leiseres Mahlwerk und ein einfacheres Reinigungssystem wünschen.\"\"\"\n",
    "\n",
    "# Chain erstellen und ausführen\n",
    "review_chain = product_review_prompt | llm(temperature=0.1) | StrOutputParser()\n",
    "result = review_chain.invoke({\"review\": review})\n",
    "\n",
    "# Strukturierte Daten extrahieren\n",
    "try:\n",
    "    data = json.loads(result)\n",
    "    print(\"\\nAnalyse der Produktbewertung:\")\n",
    "    print(f\"Produkt: {data['produktname']}\")\n",
    "    print(f\"Gesamtbewertung: {data['gesamtbewertung']}/5\")\n",
    "    \n",
    "    print(\"\\nPositive Aspekte:\")\n",
    "    for punkt in data['positive_punkte']:\n",
    "        print(f\"✓ {punkt}\")\n",
    "        \n",
    "    print(\"\\nNegative Aspekte:\")\n",
    "    for punkt in data['negative_punkte']:\n",
    "        print(f\"✗ {punkt}\")\n",
    "        \n",
    "    print(\"\\nVerbesserungsvorschläge:\")\n",
    "    for vorschlag in data['verbesserungsvorschlaege']:\n",
    "        print(f\"→ {vorschlag}\")\n",
    "except Exception as e:\n",
    "    print(f\"Fehler beim Parsen: {e}\")"
   ]
  },
  {
   "cell_type": "markdown",
   "metadata": {},
   "source": [
    "## 7. Tipps für effektive strukturierte Ausgaben\n",
    "\n",
    "1. **Klare Anweisungen**: Je präziser die Anweisungen, desto konsistenter die Ausgaben\n",
    "2. **Beispiele**: Geben Sie Beispiele für das gewünschte Format\n",
    "3. **Niedrige Temperatur**: Verwenden Sie eine niedrige Temperatur (0-0.2) für konsistentere Ergebnisse\n",
    "4. **Fehlerbehandlung**: Implementieren Sie Validierung und Fehlerbehandlung\n",
    "5. **Fallback-Mechanismen**: Bereiten Sie Ausweichlösungen vor, falls das LLM nicht die erwartete Struktur liefert"
   ]
  },
  {
   "cell_type": "markdown",
   "metadata": {},
   "source": [
    "## 8. Zusammenfassung\n",
    "\n",
    "In diesem Notebook haben wir gelernt:\n",
    "- Wie man durch einfache Anweisungen strukturierte Textausgaben erzeugt\n",
    "- Wie man mit Pydantic-Modellen typsichere strukturierte Ausgaben erhält\n",
    "- Wie man vordefinierte Prompts aus dem LangChain Hub anpasst\n",
    "- Praktische Anwendungen für strukturierte Ausgaben wie Sentiment-Analyse und Produktbewertungen\n",
    "\n",
    "Diese Techniken sind essenziell für die Entwicklung robuster KI-Anwendungen, die zuverlässig mit den generierten Daten arbeiten müssen."
   ]
  }
 ],
 "metadata": {
  "kernelspec": {
   "display_name": "Python 3 (ipykernel)",
   "language": "python",
   "name": "python3"
  },
  "language_info": {
   "codemirror_mode": {
    "name": "ipython",
    "version": 3
   },
   "file_extension": ".py",
   "mimetype": "text/x-python",
   "name": "python",
   "nbconvert_exporter": "python",
   "pygments_lexer": "ipython3",
   "version": "3.11.11"
  }
 },
 "nbformat": 4,
 "nbformat_minor": 2
}
